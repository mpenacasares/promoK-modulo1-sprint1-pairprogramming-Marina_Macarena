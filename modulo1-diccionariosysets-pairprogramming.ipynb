{
 "cells": [
  {
   "cell_type": "markdown",
   "metadata": {},
   "source": [
    "Ejercicios diccionarios\n"
   ]
  },
  {
   "cell_type": "code",
   "execution_count": 8,
   "metadata": {},
   "outputs": [
    {
     "data": {
      "text/plain": [
       "dict"
      ]
     },
     "execution_count": 8,
     "metadata": {},
     "output_type": "execute_result"
    }
   ],
   "source": [
    "# 1.Crear un diccionario vacío\n",
    "\n",
    "#Descripción: Crea un diccionario vacío sin ningún par clave-valor\n",
    "\n",
    "diccionario_vacio = {}\n",
    "\n",
    "type(diccionario_vacio)"
   ]
  },
  {
   "cell_type": "code",
   "execution_count": 11,
   "metadata": {},
   "outputs": [
    {
     "name": "stdout",
     "output_type": "stream",
     "text": [
      "El diccionario monarca es: {'Bélgica': 'Philippe', 'Dinamarca': 'Margrethe II', 'Holanda': 'Beatrix', 'Noruega': 'Harald V', 'España': 'Felipe VI', 'Reino Unido': 'Carlos III'}\n"
     ]
    }
   ],
   "source": [
    "# 2.Crear un diccionario con elementos\n",
    "\n",
    "#Descripción: Crea un diccionario con pares clave-valor predefinidos. Definir el diccionario con las claves y valores que querais. NOTA El diccionario debe tener al menos 5 pares de clave:valor.\n",
    "\n",
    "diccionario_monarcas = {'Bélgica': 'Philippe', 'Dinamarca': 'Margrethe II', 'Holanda': 'Beatrix', 'Noruega': 'Harald V', 'España': 'Felipe VI', 'Reino Unido': 'Carlos III'}\n",
    "\n",
    "print(\"El diccionario monarca es:\", diccionario_monarcas)"
   ]
  },
  {
   "cell_type": "code",
   "execution_count": 15,
   "metadata": {},
   "outputs": [
    {
     "name": "stdout",
     "output_type": "stream",
     "text": [
      "Brasil\n"
     ]
    },
    {
     "data": {
      "text/plain": [
       "'No hay este país en el diccionario'"
      ]
     },
     "execution_count": 15,
     "metadata": {},
     "output_type": "execute_result"
    }
   ],
   "source": [
    "\n",
    "#Acceder al valor de una clave en un diccionario\n",
    "\n",
    "#Descripción: Usando el diccionario creado en el paso anterior, obtén el valor correspondiente a una clave específica que indique el usuario (debereis usar la función input() para preguntar al usuario\n",
    "\n",
    "pais_usuario = input(\"Elige un país\")\n",
    "\n",
    "print(pais_usuario)\n",
    "\n",
    "diccionario_monarcas.get(pais_usuario, \"No hay este país en el diccionario\")"
   ]
  },
  {
   "cell_type": "code",
   "execution_count": 17,
   "metadata": {},
   "outputs": [
    {
     "data": {
      "text/plain": [
       "{'Bélgica': 'Philippe',\n",
       " 'Dinamarca': 'Margrethe II',\n",
       " 'Holanda': 'Beatrix',\n",
       " 'Noruega': 'Harald V',\n",
       " 'España': 'Felipe VI',\n",
       " 'Reino Unido': 'Carlos III',\n",
       " 'Suecia': 'Carlos XVI'}"
      ]
     },
     "execution_count": 17,
     "metadata": {},
     "output_type": "execute_result"
    }
   ],
   "source": [
    "#Agregar un nuevo par clave-valor a un diccionario\n",
    "\n",
    "#Descripción: Usando el diccionario creado en el ejercicio 2, agrega un nuevo par clave-valor.\n",
    "\n",
    "diccionario_monarcas['Suecia'] = \"Carlos XVI\"\n",
    "\n",
    "diccionario_monarcas"
   ]
  },
  {
   "cell_type": "code",
   "execution_count": 23,
   "metadata": {},
   "outputs": [
    {
     "data": {
      "text/plain": [
       "{'Bélgica': 'Philippe',\n",
       " 'Holanda': 'Beatrix',\n",
       " 'Noruega': 'Harald V',\n",
       " 'España': 'Felipe VI',\n",
       " 'Reino Unido': 'Carlos III',\n",
       " 'Suecia': 'Carlos XVI Gustavo'}"
      ]
     },
     "execution_count": 23,
     "metadata": {},
     "output_type": "execute_result"
    }
   ],
   "source": [
    "#Actualizar el valor de una clave en un diccionario\n",
    "\n",
    "#Descripción: Usando el diccionario creado en el ejercicio 2, actualiza el valor correspondiente a una clave existente.\n",
    "\n",
    "diccionario_monarcas[\"Suecia\"] = \"Carlos XVI Gustavo\"\n",
    "\n",
    "diccionario_monarcas"
   ]
  },
  {
   "cell_type": "code",
   "execution_count": 22,
   "metadata": {},
   "outputs": [
    {
     "name": "stdout",
     "output_type": "stream",
     "text": [
      "Dinamarca\n"
     ]
    },
    {
     "ename": "KeyError",
     "evalue": "'Dinamarca'",
     "output_type": "error",
     "traceback": [
      "\u001b[0;31m---------------------------------------------------------------------------\u001b[0m",
      "\u001b[0;31mKeyError\u001b[0m                                  Traceback (most recent call last)",
      "Cell \u001b[0;32mIn[22], line 9\u001b[0m\n\u001b[1;32m      5\u001b[0m pais_usuario_eliminado \u001b[38;5;241m=\u001b[39m \u001b[38;5;28minput\u001b[39m(\u001b[38;5;124m\"\u001b[39m\u001b[38;5;124mElige un país para eliminar\u001b[39m\u001b[38;5;124m\"\u001b[39m)\n\u001b[1;32m      7\u001b[0m \u001b[38;5;28mprint\u001b[39m(pais_usuario_eliminado)\n\u001b[0;32m----> 9\u001b[0m diccionario_monarcas\u001b[38;5;241m.\u001b[39mpop(pais_usuario_eliminado)\n\u001b[1;32m     11\u001b[0m \u001b[38;5;28mprint\u001b[39m(diccionario_monarcas)\n",
      "\u001b[0;31mKeyError\u001b[0m: 'Dinamarca'"
     ]
    }
   ],
   "source": [
    "#Eliminar un par clave-valor de un diccionario\n",
    "\n",
    "#Descripción: Usando el diccionario creado en el ejercicio 2, elimina un par clave-valor específico que indique el usuario (debereis usar la función input() para preguntar al usuario).\n",
    "\n",
    "pais_usuario_eliminado = input(\"Elige un país para eliminar\")\n",
    "\n",
    "print(pais_usuario_eliminado)\n",
    "\n",
    "diccionario_monarcas.pop(pais_usuario_eliminado)\n",
    "\n",
    "print(diccionario_monarcas)\n"
   ]
  },
  {
   "cell_type": "code",
   "execution_count": 25,
   "metadata": {},
   "outputs": [
    {
     "data": {
      "text/plain": [
       "{'Bélgica': 'Philippe',\n",
       " 'Holanda': 'Beatrix',\n",
       " 'Noruega': 'Harald V',\n",
       " 'España': 'Felipe VI',\n",
       " 'Reino Unido': 'Carlos III',\n",
       " 'Suecia': 'Carlos XVI Gustavo'}"
      ]
     },
     "execution_count": 25,
     "metadata": {},
     "output_type": "execute_result"
    }
   ],
   "source": [
    "diccionario_monarcas"
   ]
  },
  {
   "cell_type": "code",
   "execution_count": 30,
   "metadata": {},
   "outputs": [
    {
     "name": "stdout",
     "output_type": "stream",
     "text": [
      "España\n",
      "Esta este país en el diccionario: True\n"
     ]
    }
   ],
   "source": [
    "#Verificar si una clave está presente en un diccionario\n",
    "\n",
    "#Descripción: Usando el diccionario creado en el ejercicio 2, verifica si una clave específica está presente en él. La clave a buscar debe ser pasada por el usuario, debereis usar un input().\n",
    "\n",
    "pais_usuario_verificar = input(\"Elige un país para verificar si esta en el diccionario\")\n",
    "\n",
    "print(pais_usuario_verificar)\n",
    "\n",
    "print(\"Esta este país en el diccionario:\", pais_usuario_verificar in diccionario_monarcas )"
   ]
  },
  {
   "cell_type": "code",
   "execution_count": 31,
   "metadata": {},
   "outputs": [
    {
     "data": {
      "text/plain": [
       "dict_keys(['Bélgica', 'Holanda', 'Noruega', 'España', 'Reino Unido', 'Suecia'])"
      ]
     },
     "execution_count": 31,
     "metadata": {},
     "output_type": "execute_result"
    }
   ],
   "source": [
    "\n",
    "#Obtener una lista de todas las claves de un diccionario\n",
    "\n",
    "#Descripción: Usando el diccionario creado en el ejercicio 2, obtén una lista con todas las claves que contiene.\n",
    "\n",
    "diccionario_monarcas.keys()"
   ]
  },
  {
   "cell_type": "code",
   "execution_count": 32,
   "metadata": {},
   "outputs": [
    {
     "data": {
      "text/plain": [
       "dict_values(['Philippe', 'Beatrix', 'Harald V', 'Felipe VI', 'Carlos III', 'Carlos XVI Gustavo'])"
      ]
     },
     "execution_count": 32,
     "metadata": {},
     "output_type": "execute_result"
    }
   ],
   "source": [
    "\n",
    "#Obtener una lista de todos los valores de un diccionario\n",
    "\n",
    "#Descripción: Usando el diccionario creado en el ejercicio 2, obtén una lista con todos los valores que contiene.\n",
    "\n",
    "diccionario_monarcas.values()"
   ]
  },
  {
   "cell_type": "code",
   "execution_count": 36,
   "metadata": {},
   "outputs": [
    {
     "data": {
      "text/plain": [
       "{'Bélgica': 'Philippe',\n",
       " 'Holanda': 'Beatrix',\n",
       " 'Noruega': 'Harald V',\n",
       " 'España': 'Felipe VI',\n",
       " 'Reino Unido': 'Carlos III',\n",
       " 'Suecia': 'Carlos XVI Gustavo',\n",
       " 'Brasil': 'No tiene rey',\n",
       " 'Dinamarca': None}"
      ]
     },
     "execution_count": 36,
     "metadata": {},
     "output_type": "execute_result"
    }
   ],
   "source": [
    "\n",
    "#Utilizar el método setdefault() para establecer un valor predeterminado si la clave no existe\n",
    "\n",
    "#Descripción: Usando el diccionario creado en el ejercicio 2, obten el valor correspondiente a una clave. Si la clave no existe, establece un valor predeterminado y devuelve dicho valor.\n",
    "\n",
    "diccionario_monarcas.setdefault(\"Brasil\", \"No tiene rey\")\n",
    "\n",
    "diccionario_monarcas\n",
    "\n",
    "diccionario_monarcas.setdefault(\"Dinamarca\")\n",
    "\n",
    "diccionario_monarcas"
   ]
  },
  {
   "cell_type": "code",
   "execution_count": 38,
   "metadata": {},
   "outputs": [
    {
     "ename": "KeyError",
     "evalue": "'Bélgica'",
     "output_type": "error",
     "traceback": [
      "\u001b[0;31m---------------------------------------------------------------------------\u001b[0m",
      "\u001b[0;31mKeyError\u001b[0m                                  Traceback (most recent call last)",
      "Cell \u001b[0;32mIn[38], line 5\u001b[0m\n\u001b[1;32m      1\u001b[0m \u001b[38;5;66;03m#Manipulación de un diccionario utilizando pop() y popitem()\u001b[39;00m\n\u001b[1;32m      2\u001b[0m \n\u001b[1;32m      3\u001b[0m \u001b[38;5;66;03m#Descripción: Usando el diccionario creado en el ejercicio 2, realiza operaciones de eliminación utilizando pop() y popitem(), y observa cómo afectan al diccionario.\u001b[39;00m\n\u001b[0;32m----> 5\u001b[0m \u001b[38;5;28mprint\u001b[39m(\u001b[38;5;124m\"\u001b[39m\u001b[38;5;124mVoy a eliminar:\u001b[39m\u001b[38;5;124m\"\u001b[39m, diccionario_monarcas\u001b[38;5;241m.\u001b[39mpop(\u001b[38;5;124m\"\u001b[39m\u001b[38;5;124mBélgica\u001b[39m\u001b[38;5;124m\"\u001b[39m))\n\u001b[1;32m      6\u001b[0m diccionario_monarcas\n",
      "\u001b[0;31mKeyError\u001b[0m: 'Bélgica'"
     ]
    }
   ],
   "source": [
    "\n",
    "#Manipulación de un diccionario utilizando pop() y popitem()\n",
    "\n",
    "#Descripción: Usando el diccionario creado en el ejercicio 2, realiza operaciones de eliminación utilizando pop() y popitem(), y observa cómo afectan al diccionario.\n",
    "\n",
    "print(\"Voy a eliminar:\", diccionario_monarcas.pop(\"Bélgica\"))\n",
    "diccionario_monarcas\n"
   ]
  },
  {
   "cell_type": "code",
   "execution_count": 39,
   "metadata": {},
   "outputs": [
    {
     "data": {
      "text/plain": [
       "{'Holanda': 'Beatrix',\n",
       " 'Noruega': 'Harald V',\n",
       " 'España': 'Felipe VI',\n",
       " 'Reino Unido': 'Carlos III',\n",
       " 'Suecia': 'Carlos XVI Gustavo',\n",
       " 'Brasil': 'No tiene rey',\n",
       " 'Dinamarca': None}"
      ]
     },
     "execution_count": 39,
     "metadata": {},
     "output_type": "execute_result"
    }
   ],
   "source": [
    "diccionario_monarcas"
   ]
  },
  {
   "cell_type": "code",
   "execution_count": 40,
   "metadata": {},
   "outputs": [
    {
     "name": "stdout",
     "output_type": "stream",
     "text": [
      "Voy a eliminar: ('Dinamarca', None)\n"
     ]
    },
    {
     "data": {
      "text/plain": [
       "{'Holanda': 'Beatrix',\n",
       " 'Noruega': 'Harald V',\n",
       " 'España': 'Felipe VI',\n",
       " 'Reino Unido': 'Carlos III',\n",
       " 'Suecia': 'Carlos XVI Gustavo',\n",
       " 'Brasil': 'No tiene rey'}"
      ]
     },
     "execution_count": 40,
     "metadata": {},
     "output_type": "execute_result"
    }
   ],
   "source": [
    "print(\"Voy a eliminar:\", diccionario_monarcas.popitem())\n",
    "diccionario_monarcas"
   ]
  },
  {
   "cell_type": "code",
   "execution_count": 41,
   "metadata": {},
   "outputs": [
    {
     "data": {
      "text/plain": [
       "tuple"
      ]
     },
     "execution_count": 41,
     "metadata": {},
     "output_type": "execute_result"
    }
   ],
   "source": [
    "type(diccionario_monarcas.popitem())"
   ]
  },
  {
   "cell_type": "markdown",
   "metadata": {},
   "source": [
    "SETS:"
   ]
  },
  {
   "cell_type": "code",
   "execution_count": 45,
   "metadata": {},
   "outputs": [
    {
     "data": {
      "text/plain": [
       "set"
      ]
     },
     "execution_count": 45,
     "metadata": {},
     "output_type": "execute_result"
    }
   ],
   "source": [
    "#Crear un conjunto vacío\n",
    "\n",
    "#Descripción: Crea un conjunto vacío sin ningún elemento\n",
    "\n",
    "set_1 = set()\n",
    "type(set_1)\n",
    "\n"
   ]
  },
  {
   "cell_type": "code",
   "execution_count": 46,
   "metadata": {},
   "outputs": [
    {
     "name": "stdout",
     "output_type": "stream",
     "text": [
      "{'verduras', 'arroz', 'pasta'}\n"
     ]
    }
   ],
   "source": [
    "#Crear un conjunto con elementos\n",
    "\n",
    "#Descripción: Crea un conjunto con elementos predefinidos\n",
    "\n",
    "lista_1 = [\"arroz\", \"pasta\", \"verduras\"]\n",
    "\n",
    "set_1.update(lista_1)\n",
    "\n",
    "print(set_1)\n"
   ]
  },
  {
   "cell_type": "code",
   "execution_count": 48,
   "metadata": {},
   "outputs": [
    {
     "name": "stdout",
     "output_type": "stream",
     "text": [
      "{'verduras', 'arroz', 'pasta', 'frutas'}\n",
      "{'pan', 'frutas', 'pasta', 'arroz', 'huevos', 'verduras'}\n"
     ]
    }
   ],
   "source": [
    "#Agregar elementos a un conjunto\n",
    "\n",
    "#Descripción: Usando el set creado en el ejercicio 2, agrega nuevos elementos. Debereis agregar por separado:\n",
    "\n",
    "#Un elemento solo\n",
    "\n",
    "set_1.add(\"frutas\")\n",
    "print(set_1)\n",
    "\n",
    "#Un par de elementos a la vez\n",
    "\n",
    "lista_2 = [\"pan\", \"huevos\"]\n",
    "\n",
    "set_1.update(lista_2)\n",
    "\n",
    "print(set_1)\n"
   ]
  },
  {
   "cell_type": "code",
   "execution_count": 51,
   "metadata": {},
   "outputs": [
    {
     "name": "stdout",
     "output_type": "stream",
     "text": [
      "pan\n",
      "{'frutas', 'pasta', 'huevos', 'verduras'}\n"
     ]
    }
   ],
   "source": [
    "#Eliminar un elemento de un conjunto\n",
    "\n",
    "#Descripción: Usando el set creado en el ejercicio 2, elimina un elemento especificado por el usuario.\n",
    "\n",
    "comida_usuario_eliminado = input(\"Elige una comida para eliminar\")\n",
    "\n",
    "print(comida_usuario_eliminado)\n",
    "\n",
    "set_1.remove(comida_usuario_eliminado)\n",
    "\n",
    "print(set_1)"
   ]
  },
  {
   "cell_type": "code",
   "execution_count": 52,
   "metadata": {},
   "outputs": [
    {
     "name": "stdout",
     "output_type": "stream",
     "text": [
      "Esta comida pertenence al set: True\n"
     ]
    }
   ],
   "source": [
    "#Verificar la pertenencia de un elemento en un conjunto\n",
    "\n",
    "#Descripción: Usando el set creado en el ejercicio 2, verifica si un elemento específico está presente en él.\n",
    "\n",
    "print(\"Esta comida pertenence al set:\", 'pasta' in set_1 )"
   ]
  },
  {
   "cell_type": "code",
   "execution_count": 63,
   "metadata": {},
   "outputs": [
    {
     "name": "stdout",
     "output_type": "stream",
     "text": [
      "El set_2 es: {1, 2, 3, 4, 93}\n",
      "El set_3 es: {1, 34, 98, 38, 56}\n",
      "La unión de los sets es: {1, 2, 3, 4, 34, 98, 38, 56, 93}\n"
     ]
    }
   ],
   "source": [
    "#Realizar una unión de conjuntos\n",
    "\n",
    "#Descripción: Dados dos conjuntos, realiza una unión de ellos.\n",
    "\n",
    "\n",
    "set_3 = set((56,38,34,98,1))\n",
    "set_2 = set((1,2,3,4,93))\n",
    "\n",
    "print(\"El set_2 es:\", set_2)\n",
    "print(\"El set_3 es:\",set_3)\n",
    "\n",
    "print(\"La unión de los sets es:\", set_2.union(set_3))"
   ]
  },
  {
   "cell_type": "code",
   "execution_count": 64,
   "metadata": {},
   "outputs": [
    {
     "name": "stdout",
     "output_type": "stream",
     "text": [
      "La intersección de los sets es: {1}\n"
     ]
    }
   ],
   "source": [
    "#Realizar una intersección de conjuntos\n",
    "\n",
    "#Descripción: Usando dos conjuntos de datos definidos en el ejercicio anterior, realiza una intersección de ellos.\n",
    "\n",
    "print(\"La intersección de los sets es:\", set_2.intersection(set_3))"
   ]
  },
  {
   "cell_type": "code",
   "execution_count": 65,
   "metadata": {},
   "outputs": [
    {
     "data": {
      "text/plain": [
       "set"
      ]
     },
     "execution_count": 65,
     "metadata": {},
     "output_type": "execute_result"
    }
   ],
   "source": [
    "type(set_2.intersection(set_3))"
   ]
  },
  {
   "cell_type": "code",
   "execution_count": 66,
   "metadata": {},
   "outputs": [
    {
     "name": "stdout",
     "output_type": "stream",
     "text": [
      "Los elementos que están en el set 3 y no están en el set 2, son: {38, 34, 56, 98}\n"
     ]
    }
   ],
   "source": [
    "\n",
    "#Realizar una diferencia de conjuntos\n",
    "\n",
    "#Descripción: Usando dos conjuntos de datos definidos en el ejercicio anterior, realiza una diferencia entre ellos.\n",
    "\n",
    "print(\"Los elementos que están en el set 3 y no están en el set 2, son:\", set_3.difference(set_2))"
   ]
  },
  {
   "cell_type": "code",
   "execution_count": 69,
   "metadata": {},
   "outputs": [
    {
     "name": "stdout",
     "output_type": "stream",
     "text": [
      "¿Están todos los elementos del set2 en el set3?: False\n"
     ]
    }
   ],
   "source": [
    "#Verificar si un conjunto es subconjunto de otro\n",
    "\n",
    "#Descripción: Dados dos conjuntos, verifica si uno es subconjunto del otro.\n",
    "\n",
    "set_issubset1 = set_2.issubset(set_3)\n",
    "print(\"¿Están todos los elementos del set2 en el set3?:\", set_issubset1)"
   ]
  }
 ],
 "metadata": {
  "kernelspec": {
   "display_name": "base",
   "language": "python",
   "name": "python3"
  },
  "language_info": {
   "codemirror_mode": {
    "name": "ipython",
    "version": 3
   },
   "file_extension": ".py",
   "mimetype": "text/x-python",
   "name": "python",
   "nbconvert_exporter": "python",
   "pygments_lexer": "ipython3",
   "version": "3.12.4"
  }
 },
 "nbformat": 4,
 "nbformat_minor": 2
}
