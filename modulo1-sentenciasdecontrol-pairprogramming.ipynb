{
 "cells": [
  {
   "cell_type": "code",
   "execution_count": 9,
   "metadata": {},
   "outputs": [
    {
     "name": "stdout",
     "output_type": "stream",
     "text": [
      "1.\n",
      "El número es mayor que 0\n"
     ]
    }
   ],
   "source": [
    "#Ejercicios if-else\n",
    "\n",
    "print(\"1.\")\n",
    "\n",
    "#Verificar si un número es positivo, negativo o cero\n",
    "# Descripción: Dado un número, verifica si es positivo, negativo o cero.\n",
    "\n",
    "# Si el num = 0 ---> \"Este número es igual a 0\"\n",
    "# Si el num > 0 = \"El número es mayor que 0\"\n",
    "# Si el num < 0 = \"El número es menor que 0\"\n",
    "\n",
    "num1 = 2\n",
    "if num1 == 0:\n",
    "    print(\"Este número es igual a 0\")\n",
    "elif num1 > 0: \n",
    "    print (\"El número es mayor que 0\")\n",
    "else:\n",
    "    print(\"El número es menor que 0\")\n",
    "\n"
   ]
  },
  {
   "cell_type": "code",
   "execution_count": 24,
   "metadata": {},
   "outputs": [
    {
     "name": "stdout",
     "output_type": "stream",
     "text": [
      "0\n",
      "El número es par\n"
     ]
    }
   ],
   "source": [
    "# Verificar si un número es par o impar. \n",
    "# Descripción: Dado un número, verifica si es par o impar.\n",
    "\n",
    "num2 = 6\n",
    "residuo = num2 % 2 \n",
    "print (residuo)\n",
    "if residuo == 0:\n",
    "    print(\"El número es par\")\n",
    "else:\n",
    "    print(\"Es impar\")"
   ]
  },
  {
   "cell_type": "code",
   "execution_count": 27,
   "metadata": {},
   "outputs": [
    {
     "name": "stdout",
     "output_type": "stream",
     "text": [
      "Has aprobado\n"
     ]
    }
   ],
   "source": [
    "#Verificar si un estudiante aprobó o suspendió un examen.\n",
    "#Descripción: Dada la calificación de un estudiante en un examen, verifica si aprobó o suspendió (si la calificación es mayor o igual a 60 se considera aprobado).\n",
    "\n",
    "# Definir la variable \"nota\".\n",
    "# Comprobar si ha aprobado y suspendido. \n",
    "# Aprobado = \"nota\" >=  60.\n",
    "# Print (\"Has aprobado\") \n",
    "# Suspendido = \"nota\" < 60\n",
    "# Print (\"Has suspendido\")\n",
    "\n",
    "nota = 70\n",
    "if nota >= 60:\n",
    "    print (\"Has aprobado\")\n",
    "else:\n",
    "    print(\"Has suspendido\")"
   ]
  },
  {
   "cell_type": "code",
   "execution_count": 31,
   "metadata": {},
   "outputs": [
    {
     "name": "stdout",
     "output_type": "stream",
     "text": [
      "La primera variable 3 es menor que la 6\n"
     ]
    }
   ],
   "source": [
    "#Calcular el máximo entre dos números\n",
    "#Descripción: Dados dos números, encuentra el máximo entre ellos.\n",
    "\n",
    "#Definir dos variables.\n",
    "#Compararlas entre ellas. \n",
    "#if variable1 > variable 2\n",
    "#print (\"La variable 1 es mayor que la variable2 \")\n",
    "#elif varibale1 < variable 2\n",
    "#print (\"La variable 1 es menor que la variable2\")\n",
    "#else: print(\"Son iguales\")\n",
    "\n",
    "variable1 = 3\n",
    "variable2 = 6\n",
    "if variable1 > variable2:\n",
    "    print(f\"La primera variable {variable1} es mayor que la {variable2}\")\n",
    "elif variable1 < variable2:\n",
    "    print(f\"La primera variable {variable1} es menor que la {variable2}\")\n",
    "else:\n",
    "    print(f\"La primera variable {variable1} es igual a la {variable2}\")"
   ]
  },
  {
   "cell_type": "code",
   "execution_count": 36,
   "metadata": {},
   "outputs": [
    {
     "name": "stdout",
     "output_type": "stream",
     "text": [
      "Es una vocal\n"
     ]
    }
   ],
   "source": [
    "#Verificar si una letra es una vocal o una consonante.\n",
    "\n",
    "#Definir tu variable letra. \n",
    "#Definir tu lista de vocales. \n",
    "#Poner las condiciones. \n",
    "   #comprobar si la variable letra está dentro de la lista vocales. \n",
    "   #Si está / es True ---> print (\"Es una vocal\")\n",
    "   #Si no está en la lista --> print \"Es una consonante\"\n",
    "\n",
    "letra = \"a\" #---> Diferencia entre minúsculas y mayúsculas. \n",
    "vocales = [\"A\", \"E\", \"I\", \"O\", \"U\"]\n",
    "if letra.upper() in vocales:\n",
    "    print(\"Es una vocal\")\n",
    "else:\n",
    "    print (\"Es una consonante\")\n"
   ]
  },
  {
   "cell_type": "code",
   "execution_count": 46,
   "metadata": {},
   "outputs": [
    {
     "name": "stdout",
     "output_type": "stream",
     "text": [
      "El descuento es de 20.0\n"
     ]
    }
   ],
   "source": [
    "#Calcular el descuento en una compra según el monto total:\n",
    "#Definir un monto total. \n",
    "#Aplicar las condiciones: \n",
    "   #Si el monto es mayor o igual 100. Le aplicamos el descuento del 10% y nos devuelve el resultado con el descuento. \n",
    "   #Si el monto es menor que 100, se el mismo monto.\n",
    "   #print (\"No tienes ningún descuento\")\n",
    "\n",
    "monto_total = 200\n",
    "if monto_total >= 100:\n",
    "    descuento = monto_total * 0.10\n",
    "    print(f\"El descuento es de {descuento}\")\n",
    "else:\n",
    "    print(\"No hay descuento\")\n",
    "    \n",
    "\n"
   ]
  },
  {
   "cell_type": "code",
   "execution_count": 49,
   "metadata": {},
   "outputs": [
    {
     "name": "stdout",
     "output_type": "stream",
     "text": [
      "1\n",
      "El año no es bisiesto \n"
     ]
    }
   ],
   "source": [
    "#Verificar si un año es bisiesto o no:\n",
    "#Descripción: Dado un año, verifica si es bisiesto o no (un año es bisiesto si es divisible entre 4, excepto aquellos divisibles entre 100 pero no entre 400).\n",
    "#Definir el valor del año que analizaremos. \n",
    "\n",
    "año = 1993\n",
    "residuo = año % 4 \n",
    "print (residuo)\n",
    "if residuo == 0:\n",
    "    print(\"El año bisiesto \")\n",
    "else:\n",
    "    print(\"El año no es bisiesto \")"
   ]
  },
  {
   "cell_type": "code",
   "execution_count": null,
   "metadata": {},
   "outputs": [],
   "source": []
  }
 ],
 "metadata": {
  "kernelspec": {
   "display_name": "Python 3",
   "language": "python",
   "name": "python3"
  },
  "language_info": {
   "codemirror_mode": {
    "name": "ipython",
    "version": 3
   },
   "file_extension": ".py",
   "mimetype": "text/x-python",
   "name": "python",
   "nbconvert_exporter": "python",
   "pygments_lexer": "ipython3",
   "version": "3.12.6"
  }
 },
 "nbformat": 4,
 "nbformat_minor": 2
}
